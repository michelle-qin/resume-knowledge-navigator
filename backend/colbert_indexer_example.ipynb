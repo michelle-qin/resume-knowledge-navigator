{
  "cells": [
    {
      "cell_type": "code",
      "source": [
        "# This mounts your Google Drive to the Colab VM.\n",
        "from google.colab import drive\n",
        "drive.mount('/content/drive')\n",
        "FOLDERNAME = 'CS224V Navigator'\n",
        "import sys\n",
        "sys.path.append('/content/drive/My Drive/{}'.format(FOLDERNAME))\\\n",
        "\n",
        "%cd /content/drive/My\\ Drive/$FOLDERNAME"
      ],
      "metadata": {
        "colab": {
          "base_uri": "https://localhost:8080/"
        },
        "id": "J54KBe8mv5Vb",
        "outputId": "99bb3337-ce09-40a6-f0cd-0b64ab24372b"
      },
      "execution_count": null,
      "outputs": [
        {
          "output_type": "stream",
          "name": "stdout",
          "text": [
            "Drive already mounted at /content/drive; to attempt to forcibly remount, call drive.mount(\"/content/drive\", force_remount=True).\n",
            "/content/drive/My Drive/CS224V Navigator\n"
          ]
        }
      ]
    },
    {
      "cell_type": "code",
      "source": [
        "%ls"
      ],
      "metadata": {
        "colab": {
          "base_uri": "https://localhost:8080/"
        },
        "id": "Q0y-OOMGwG7S",
        "outputId": "e8d16ae2-c132-48e8-cfd3-272e5c2763a2"
      },
      "execution_count": null,
      "outputs": [
        {
          "output_type": "stream",
          "name": "stdout",
          "text": [
            "\u001b[0m\u001b[01;34mColBERT\u001b[0m/  \u001b[01;34mexperiments\u001b[0m/  indexer.ipynb  \u001b[01;34mprocessed_data\u001b[0m/  \u001b[01;34msmall_data\u001b[0m/\n"
          ]
        }
      ]
    },
    {
      "cell_type": "code",
      "execution_count": null,
      "metadata": {
        "colab": {
          "base_uri": "https://localhost:8080/"
        },
        "id": "nl_YBBPTo5AZ",
        "outputId": "7db8bfea-3468-4f5f-d0b2-84f181035fa7"
      },
      "outputs": [
        {
          "output_type": "stream",
          "name": "stdout",
          "text": [
            "Already up to date.\n"
          ]
        }
      ],
      "source": [
        "!git -C ColBERT/ pull || git clone https://github.com/stanford-futuredata/ColBERT.git\n",
        "import sys; sys.path.insert(0, 'ColBERT/')\n"
      ]
    },
    {
      "cell_type": "code",
      "execution_count": null,
      "metadata": {
        "colab": {
          "base_uri": "https://localhost:8080/"
        },
        "id": "FmBi2UT5pxb3",
        "outputId": "7131707c-9066-410c-c37d-baaccb9e7ea3"
      },
      "outputs": [
        {
          "output_type": "stream",
          "name": "stdout",
          "text": [
            "Requirement already satisfied: pip in /usr/local/lib/python3.10/dist-packages (23.3.1)\n",
            "\u001b[33mWARNING: Running pip as the 'root' user can result in broken permissions and conflicting behaviour with the system package manager. It is recommended to use a virtual environment instead: https://pip.pypa.io/warnings/venv\u001b[0m\u001b[33m\n",
            "\u001b[0mObtaining file:///content/drive/MyDrive/CS224V%20Navigator/ColBERT\n",
            "  Preparing metadata (setup.py) ... \u001b[?25l\u001b[?25hdone\n",
            "Requirement already satisfied: bitarray in /usr/local/lib/python3.10/dist-packages (2.8.2)\n",
            "Requirement already satisfied: datasets in /usr/local/lib/python3.10/dist-packages (2.14.6)\n",
            "Requirement already satisfied: flask in /usr/local/lib/python3.10/dist-packages (2.2.5)\n",
            "Requirement already satisfied: git-python in /usr/local/lib/python3.10/dist-packages (1.0.3)\n",
            "Requirement already satisfied: python-dotenv in /usr/local/lib/python3.10/dist-packages (1.0.0)\n",
            "Requirement already satisfied: ninja in /usr/local/lib/python3.10/dist-packages (1.11.1.1)\n",
            "Requirement already satisfied: scipy in /usr/local/lib/python3.10/dist-packages (1.11.3)\n",
            "Requirement already satisfied: spacy in /usr/local/lib/python3.10/dist-packages (3.6.1)\n",
            "Requirement already satisfied: tqdm in /usr/local/lib/python3.10/dist-packages (4.66.1)\n",
            "Requirement already satisfied: transformers in /usr/local/lib/python3.10/dist-packages (4.35.0)\n",
            "Requirement already satisfied: ujson in /usr/local/lib/python3.10/dist-packages (5.8.0)\n",
            "Requirement already satisfied: torch==1.13.1 in /usr/local/lib/python3.10/dist-packages (1.13.1)\n",
            "Requirement already satisfied: faiss-gpu>=1.7.0 in /usr/local/lib/python3.10/dist-packages (1.7.2)\n",
            "Requirement already satisfied: typing-extensions in /usr/local/lib/python3.10/dist-packages (from torch==1.13.1) (4.5.0)\n",
            "Requirement already satisfied: nvidia-cuda-runtime-cu11==11.7.99 in /usr/local/lib/python3.10/dist-packages (from torch==1.13.1) (11.7.99)\n",
            "Requirement already satisfied: nvidia-cudnn-cu11==8.5.0.96 in /usr/local/lib/python3.10/dist-packages (from torch==1.13.1) (8.5.0.96)\n",
            "Requirement already satisfied: nvidia-cublas-cu11==11.10.3.66 in /usr/local/lib/python3.10/dist-packages (from torch==1.13.1) (11.10.3.66)\n",
            "Requirement already satisfied: nvidia-cuda-nvrtc-cu11==11.7.99 in /usr/local/lib/python3.10/dist-packages (from torch==1.13.1) (11.7.99)\n",
            "Requirement already satisfied: setuptools in /usr/local/lib/python3.10/dist-packages (from nvidia-cublas-cu11==11.10.3.66->torch==1.13.1) (67.7.2)\n",
            "Requirement already satisfied: wheel in /usr/local/lib/python3.10/dist-packages (from nvidia-cublas-cu11==11.10.3.66->torch==1.13.1) (0.41.2)\n",
            "Requirement already satisfied: numpy>=1.17 in /usr/local/lib/python3.10/dist-packages (from datasets) (1.23.5)\n",
            "Requirement already satisfied: pyarrow>=8.0.0 in /usr/local/lib/python3.10/dist-packages (from datasets) (9.0.0)\n",
            "Requirement already satisfied: dill<0.3.8,>=0.3.0 in /usr/local/lib/python3.10/dist-packages (from datasets) (0.3.7)\n",
            "Requirement already satisfied: pandas in /usr/local/lib/python3.10/dist-packages (from datasets) (1.5.3)\n",
            "Requirement already satisfied: requests>=2.19.0 in /usr/local/lib/python3.10/dist-packages (from datasets) (2.31.0)\n",
            "Requirement already satisfied: xxhash in /usr/local/lib/python3.10/dist-packages (from datasets) (3.4.1)\n",
            "Requirement already satisfied: multiprocess in /usr/local/lib/python3.10/dist-packages (from datasets) (0.70.15)\n",
            "Requirement already satisfied: fsspec<=2023.10.0,>=2023.1.0 in /usr/local/lib/python3.10/dist-packages (from fsspec[http]<=2023.10.0,>=2023.1.0->datasets) (2023.6.0)\n",
            "Requirement already satisfied: aiohttp in /usr/local/lib/python3.10/dist-packages (from datasets) (3.8.6)\n",
            "Requirement already satisfied: huggingface-hub<1.0.0,>=0.14.0 in /usr/local/lib/python3.10/dist-packages (from datasets) (0.17.3)\n",
            "Requirement already satisfied: packaging in /usr/local/lib/python3.10/dist-packages (from datasets) (23.2)\n",
            "Requirement already satisfied: pyyaml>=5.1 in /usr/local/lib/python3.10/dist-packages (from datasets) (6.0.1)\n",
            "Requirement already satisfied: Werkzeug>=2.2.2 in /usr/local/lib/python3.10/dist-packages (from flask) (3.0.1)\n",
            "Requirement already satisfied: Jinja2>=3.0 in /usr/local/lib/python3.10/dist-packages (from flask) (3.1.2)\n",
            "Requirement already satisfied: itsdangerous>=2.0 in /usr/local/lib/python3.10/dist-packages (from flask) (2.1.2)\n",
            "Requirement already satisfied: click>=8.0 in /usr/local/lib/python3.10/dist-packages (from flask) (8.1.7)\n",
            "Requirement already satisfied: gitpython in /usr/local/lib/python3.10/dist-packages (from git-python) (3.1.40)\n",
            "Requirement already satisfied: spacy-legacy<3.1.0,>=3.0.11 in /usr/local/lib/python3.10/dist-packages (from spacy) (3.0.12)\n",
            "Requirement already satisfied: spacy-loggers<2.0.0,>=1.0.0 in /usr/local/lib/python3.10/dist-packages (from spacy) (1.0.5)\n",
            "Requirement already satisfied: murmurhash<1.1.0,>=0.28.0 in /usr/local/lib/python3.10/dist-packages (from spacy) (1.0.10)\n",
            "Requirement already satisfied: cymem<2.1.0,>=2.0.2 in /usr/local/lib/python3.10/dist-packages (from spacy) (2.0.8)\n",
            "Requirement already satisfied: preshed<3.1.0,>=3.0.2 in /usr/local/lib/python3.10/dist-packages (from spacy) (3.0.9)\n",
            "Requirement already satisfied: thinc<8.2.0,>=8.1.8 in /usr/local/lib/python3.10/dist-packages (from spacy) (8.1.12)\n",
            "Requirement already satisfied: wasabi<1.2.0,>=0.9.1 in /usr/local/lib/python3.10/dist-packages (from spacy) (1.1.2)\n",
            "Requirement already satisfied: srsly<3.0.0,>=2.4.3 in /usr/local/lib/python3.10/dist-packages (from spacy) (2.4.8)\n",
            "Requirement already satisfied: catalogue<2.1.0,>=2.0.6 in /usr/local/lib/python3.10/dist-packages (from spacy) (2.0.10)\n",
            "Requirement already satisfied: typer<0.10.0,>=0.3.0 in /usr/local/lib/python3.10/dist-packages (from spacy) (0.9.0)\n",
            "Requirement already satisfied: pathy>=0.10.0 in /usr/local/lib/python3.10/dist-packages (from spacy) (0.10.3)\n",
            "Requirement already satisfied: smart-open<7.0.0,>=5.2.1 in /usr/local/lib/python3.10/dist-packages (from spacy) (6.4.0)\n",
            "Requirement already satisfied: pydantic!=1.8,!=1.8.1,<3.0.0,>=1.7.4 in /usr/local/lib/python3.10/dist-packages (from spacy) (1.10.13)\n",
            "Requirement already satisfied: langcodes<4.0.0,>=3.2.0 in /usr/local/lib/python3.10/dist-packages (from spacy) (3.3.0)\n",
            "Requirement already satisfied: filelock in /usr/local/lib/python3.10/dist-packages (from transformers) (3.12.4)\n",
            "Requirement already satisfied: regex!=2019.12.17 in /usr/local/lib/python3.10/dist-packages (from transformers) (2023.6.3)\n",
            "Requirement already satisfied: tokenizers<0.15,>=0.14 in /usr/local/lib/python3.10/dist-packages (from transformers) (0.14.1)\n",
            "Requirement already satisfied: safetensors>=0.3.1 in /usr/local/lib/python3.10/dist-packages (from transformers) (0.4.0)\n",
            "Requirement already satisfied: attrs>=17.3.0 in /usr/local/lib/python3.10/dist-packages (from aiohttp->datasets) (23.1.0)\n",
            "Requirement already satisfied: charset-normalizer<4.0,>=2.0 in /usr/local/lib/python3.10/dist-packages (from aiohttp->datasets) (3.3.1)\n",
            "Requirement already satisfied: multidict<7.0,>=4.5 in /usr/local/lib/python3.10/dist-packages (from aiohttp->datasets) (6.0.4)\n",
            "Requirement already satisfied: async-timeout<5.0,>=4.0.0a3 in /usr/local/lib/python3.10/dist-packages (from aiohttp->datasets) (4.0.3)\n",
            "Requirement already satisfied: yarl<2.0,>=1.0 in /usr/local/lib/python3.10/dist-packages (from aiohttp->datasets) (1.9.2)\n",
            "Requirement already satisfied: frozenlist>=1.1.1 in /usr/local/lib/python3.10/dist-packages (from aiohttp->datasets) (1.4.0)\n",
            "Requirement already satisfied: aiosignal>=1.1.2 in /usr/local/lib/python3.10/dist-packages (from aiohttp->datasets) (1.3.1)\n",
            "Requirement already satisfied: MarkupSafe>=2.0 in /usr/local/lib/python3.10/dist-packages (from Jinja2>=3.0->flask) (2.1.3)\n",
            "Requirement already satisfied: idna<4,>=2.5 in /usr/local/lib/python3.10/dist-packages (from requests>=2.19.0->datasets) (3.4)\n",
            "Requirement already satisfied: urllib3<3,>=1.21.1 in /usr/local/lib/python3.10/dist-packages (from requests>=2.19.0->datasets) (2.0.7)\n",
            "Requirement already satisfied: certifi>=2017.4.17 in /usr/local/lib/python3.10/dist-packages (from requests>=2.19.0->datasets) (2023.7.22)\n",
            "Requirement already satisfied: blis<0.8.0,>=0.7.8 in /usr/local/lib/python3.10/dist-packages (from thinc<8.2.0,>=8.1.8->spacy) (0.7.11)\n",
            "Requirement already satisfied: confection<1.0.0,>=0.0.1 in /usr/local/lib/python3.10/dist-packages (from thinc<8.2.0,>=8.1.8->spacy) (0.1.3)\n",
            "Requirement already satisfied: gitdb<5,>=4.0.1 in /usr/local/lib/python3.10/dist-packages (from gitpython->git-python) (4.0.11)\n",
            "Requirement already satisfied: python-dateutil>=2.8.1 in /usr/local/lib/python3.10/dist-packages (from pandas->datasets) (2.8.2)\n",
            "Requirement already satisfied: pytz>=2020.1 in /usr/local/lib/python3.10/dist-packages (from pandas->datasets) (2023.3.post1)\n",
            "Requirement already satisfied: smmap<6,>=3.0.1 in /usr/local/lib/python3.10/dist-packages (from gitdb<5,>=4.0.1->gitpython->git-python) (5.0.1)\n",
            "Requirement already satisfied: six>=1.5 in /usr/local/lib/python3.10/dist-packages (from python-dateutil>=2.8.1->pandas->datasets) (1.16.0)\n",
            "Installing collected packages: colbert\n",
            "  Attempting uninstall: colbert\n",
            "    Found existing installation: colbert 0.2.0\n",
            "    Uninstalling colbert-0.2.0:\n",
            "      Successfully uninstalled colbert-0.2.0\n",
            "  Running setup.py develop for colbert\n",
            "Successfully installed colbert-0.2.0\n",
            "\u001b[33mWARNING: Running pip as the 'root' user can result in broken permissions and conflicting behaviour with the system package manager. It is recommended to use a virtual environment instead: https://pip.pypa.io/warnings/venv\u001b[0m\u001b[33m\n",
            "\u001b[0m"
          ]
        }
      ],
      "source": [
        "try: # When on google Colab, let's install all dependencies with pip.\n",
        "    import google.colab\n",
        "    !pip install -U pip\n",
        "    !pip install -e ColBERT/['faiss-gpu','torch']\n",
        "except Exception:\n",
        "  import sys; sys.path.insert(0, 'ColBERT/')\n",
        "  try:\n",
        "    from colbert import Indexer, Searcher\n",
        "  except Exception:\n",
        "    print(\"If you're running outside Colab, please make sure you install ColBERT in conda following the instructions in our README. You can also install (as above) with pip but it may install slower or less stable faiss or torch dependencies. Conda is recommended.\")\n",
        "    assert False"
      ]
    },
    {
      "cell_type": "code",
      "execution_count": null,
      "metadata": {
        "id": "N0jxbVar4kln"
      },
      "outputs": [],
      "source": [
        "import colbert"
      ]
    },
    {
      "cell_type": "code",
      "execution_count": null,
      "metadata": {
        "id": "xQg9A-dtp1nB"
      },
      "outputs": [],
      "source": [
        "from colbert import Indexer, Searcher\n",
        "from colbert.infra import Run, RunConfig, ColBERTConfig\n",
        "from colbert.data import Queries, Collection"
      ]
    },
    {
      "cell_type": "markdown",
      "metadata": {
        "id": "TLWjmlkVq9r0"
      },
      "source": [
        "We will use the dev set of the **LoTTE benchmark** we recently introduced in the ColBERTv2 paper. We'll download it from HuggingFace datasets. The dev and test sets contain several domain-specific corpora, and we'll use the smallest dev set corpus, namely lifestyle:dev.\n",
        "\n",
        "For the purposes of a quick demo, we will only run the `Indexer` on the first 10,000 passages. As we do this, let's also remove the queries whose relevant passages are all outside this small set of passages."
      ]
    },
    {
      "cell_type": "code",
      "source": [
        "import os\n",
        "collection_resumes = []\n",
        "\n",
        "for file_name in os.listdir(\"processed_data\"):\n",
        "  if True:\n",
        "    with open(f\"processed_data/{file_name}\", \"r\") as file:\n",
        "      collection_resumes.append(file.read())\n",
        "\n",
        "print(len(collection_resumes))"
      ],
      "metadata": {
        "colab": {
          "base_uri": "https://localhost:8080/"
        },
        "id": "FNrECmG0xtHr",
        "outputId": "c95b41a3-33fe-4e38-9cdd-3b649213ae7b"
      },
      "execution_count": null,
      "outputs": [
        {
          "output_type": "stream",
          "name": "stdout",
          "text": [
            "2484\n"
          ]
        }
      ]
    },
    {
      "cell_type": "markdown",
      "metadata": {
        "id": "RKJdAAbDu7PZ"
      },
      "source": [
        "## Indexing\n",
        "\n",
        "For an efficient search, we can pre-compute the ColBERT representation of each passage and index them.\n",
        "\n",
        "Below, the `Indexer` take a model checkpoint and writes a (compressed) index to disk. We then prepare a `Searcher` for retrieval from this index."
      ]
    },
    {
      "cell_type": "code",
      "execution_count": null,
      "metadata": {
        "id": "vKAdVN5MvDKD"
      },
      "outputs": [],
      "source": [
        "nbits = 2   # encode each dimension with 2 bits\n",
        "doc_maxlen = 300 # truncate passages at 300 tokens\n",
        "max_passages = 10000 # We are well beneath this cap anyways\n",
        "\n",
        "index_name = f'resume_full_dataset.all.{nbits}bits'"
      ]
    },
    {
      "cell_type": "markdown",
      "metadata": {
        "id": "orKfQRmQv46u"
      },
      "source": [
        "Now run the `Indexer` on the collection subset. Assuming the use of only one GPU, this cell should take about six minutes to finish running."
      ]
    },
    {
      "cell_type": "code",
      "execution_count": null,
      "metadata": {
        "colab": {
          "base_uri": "https://localhost:8080/"
        },
        "id": "JRiOnzxtwI0j",
        "outputId": "e0b8e8d2-a7d9-4146-9810-a7b8db7d8f25"
      },
      "outputs": [
        {
          "output_type": "stream",
          "name": "stdout",
          "text": [
            "\n",
            "\n",
            "[Nov 06, 20:10:02] #> Creating directory /content/drive/MyDrive/CS224V Navigator/experiments/notebook/indexes/resume_full_dataset.all.2bits \n",
            "\n",
            "\n",
            "#> Starting...\n",
            "#> Joined...\n"
          ]
        }
      ],
      "source": [
        "checkpoint = 'colbert-ir/colbertv2.0'\n",
        "\n",
        "with Run().context(RunConfig(nranks=1, experiment='notebook')):  # nranks specifies the number of GPUs to use\n",
        "    config = ColBERTConfig(doc_maxlen=doc_maxlen, nbits=nbits, kmeans_niters=4) # kmeans_niters specifies the number of iterations of k-means clustering; 4 is a good and fast default.\n",
        "                                                                                # Consider larger numbers for small datasets.\n",
        "\n",
        "    indexer = Indexer(checkpoint=checkpoint, config=config)\n",
        "    indexer.index(name=index_name, collection=collection_resumes, overwrite=True)"
      ]
    },
    {
      "cell_type": "code",
      "execution_count": null,
      "metadata": {
        "id": "CTbP2LS1xHVZ",
        "colab": {
          "base_uri": "https://localhost:8080/",
          "height": 35
        },
        "outputId": "104bda46-0b9f-4b28-90b8-b206d6d4b4b1"
      },
      "outputs": [
        {
          "output_type": "execute_result",
          "data": {
            "text/plain": [
              "'/content/drive/MyDrive/CS224V Navigator/experiments/notebook/indexes/resume_full_dataset.all.2bits'"
            ],
            "application/vnd.google.colaboratory.intrinsic+json": {
              "type": "string"
            }
          },
          "metadata": {},
          "execution_count": 10
        }
      ],
      "source": [
        "indexer.get_index() # You can get the absolute path of the index, if needed."
      ]
    },
    {
      "cell_type": "markdown",
      "metadata": {
        "id": "IY6_D523yBFB"
      },
      "source": [
        "## Search\n",
        "\n",
        "Having built the index and prepared our `searcher`, we can search for individual query strings.\n",
        "\n",
        "We can use the `queries` set we loaded earlier — or you can supply your own questions. Feel free to get creative! But keep in mind this set of ~300k lifestyle passages can only answer a small, focused set of questions!"
      ]
    },
    {
      "cell_type": "code",
      "execution_count": null,
      "metadata": {
        "id": "j3x_FnVnyB0n",
        "colab": {
          "base_uri": "https://localhost:8080/"
        },
        "outputId": "0a6bf454-8aed-4864-d9f2-67d9df0912f3"
      },
      "outputs": [
        {
          "output_type": "stream",
          "name": "stdout",
          "text": [
            "[Nov 06, 20:46:32] #> Loading codec...\n",
            "[Nov 06, 20:46:32] #> Loading IVF...\n",
            "[Nov 06, 20:46:32] #> Loading doclens...\n"
          ]
        },
        {
          "output_type": "stream",
          "name": "stderr",
          "text": [
            "100%|██████████| 1/1 [00:00<00:00, 484.61it/s]"
          ]
        },
        {
          "output_type": "stream",
          "name": "stdout",
          "text": [
            "[Nov 06, 20:46:32] #> Loading codes and residuals...\n"
          ]
        },
        {
          "output_type": "stream",
          "name": "stderr",
          "text": [
            "\n",
            "100%|██████████| 1/1 [00:00<00:00, 17.67it/s]\n"
          ]
        }
      ],
      "source": [
        "# To create the searcher using its relative name (i.e., not a full path), set\n",
        "# experiment=value_used_for_indexing in the RunConfig.\n",
        "with Run().context(RunConfig(experiment='notebook')):\n",
        "    searcher = Searcher(index=index_name, collection=collection_resumes)\n",
        "\n",
        "\n",
        "# If you want to customize the search latency--quality tradeoff, you can also supply a\n",
        "# config=ColBERTConfig(ncells=.., centroid_score_threshold=.., ndocs=..) argument.\n",
        "# The default settings with k <= 10 (1, 0.5, 256) gives the fastest search,\n",
        "# but you can gain more extensive search by setting larger values of k or\n",
        "# manually specifying more conservative ColBERTConfig settings (e.g. (4, 0.4, 4096))."
      ]
    },
    {
      "cell_type": "code",
      "execution_count": null,
      "metadata": {
        "id": "3JYA0N22yIeS",
        "colab": {
          "base_uri": "https://localhost:8080/"
        },
        "outputId": "253b3ed4-b718-4877-b14b-fb87dd2c1792"
      },
      "outputs": [
        {
          "output_type": "stream",
          "name": "stdout",
          "text": [
            "#> which accountants have experience working with foreign companies\n"
          ]
        }
      ],
      "source": [
        "query = \"which accountants have experience working with foreign companies\" # try with an in-range query or supply your own\n",
        "print(f\"#> {query}\")\n",
        "\n",
        "# Find the top-3 passages for this query\n",
        "results = searcher.search(query, k=3)\n",
        "\n",
        "# Print out the top-k retrieved passages\n",
        "for passage_id, passage_rank, passage_score in zip(*results):\n",
        "    best_passage = searcher.collection[passage_id]\n",
        "    break"
      ]
    },
    {
      "cell_type": "code",
      "source": [
        "best_passage"
      ],
      "metadata": {
        "colab": {
          "base_uri": "https://localhost:8080/",
          "height": 87
        },
        "id": "HvJvOqWLcK5G",
        "outputId": "65e27524-b0a5-4b1f-912f-922b93dd965b"
      },
      "execution_count": null,
      "outputs": [
        {
          "output_type": "execute_result",
          "data": {
            "text/plain": [
              "\"GENERAL ACCOUNTANT\\nProfessional Summary\\nI have around 6 years experiences in the field of Accounting & banking works, with Egyptians and foreign companies, I'm really honored to\\nintroduce myself as a hardworking, good Communication skills, with the highest level of integrity, honesty, loyalty, strong beliefs, goal orientated,\\nsober habits and the desire to produce the best of the work.\\nAreas of Expertise\\nAbdul Aziz Abdul Ghafar Ahmed) Final accounts and Balance Sheet Ability to deal with the accounting program (QuickBooks). Ability to make\\nthe financial statements, accounting cycle by excel. Skill with Microsoft word. Skillfulness with computer.\\nWork Experience\\n06/2014 to 10/2016\\nCompany Name\\nCompletion of opening customer account using National bank of Egypt system.\\nChecking requests for opening an account and make sure it's compatible with the Egyptian standards for opening an account.\\nServing 50 branches per day and complete nearly 500 accounts per day.\\nCustomer Service at Green Towers Egypt, Alexandria.\\n03/2013 to 05/2014\\nDealing directly with customers either by telephone, electronically or face to face.\\nRespond promptly to customer inquiries.\\nHandle and resolve customer complaints.\\nProvide pricing and delivery information.\\nSet up new customer accounts.\\n1|Page.\\nE-mail:Hassan_aly1014@yahoo.com Mobile phone :( +2) 01207673477 Process orders, forms, applications and requests.\\nOrganize workflow to meet customer timeframes.\\nManage customers' accounts.\\nKeep records of customer interactions and transactions.\\nRecord details of inquiries, comments and complaints.\\nRecord details of actions taken.\\nMaintain customer databases.\\n10/2011 to 02/2013\\nGeneral Accountant Company Name ï¼\\u200b City\\nJob Description:.\\nPreparation of Financial and accounting reports and their presentation to the Financial Manager.\\nPrepare reports weekly and monthly for revenues and expense.\\nPrepare journal entries.\\nComplete general ledger operations.\\nAccount/bank reconciliations.\\nReview and process expense reports.\\nAssist with preparation and coordination of the audit process.\\n08/2010 to 09/2011\\nGeneral Accountant Company Name\\nJob Description:.\\nPreparation of Financial and accounting reports and their presentation to the Financial Manager.\\nPrepare reports weekly and monthly for revenues and expense.\\nPrepare journal entries.\\nComplete general ledger operations.\\nAccount/bank reconciliations.\\nCourses: Has fulfilled all requirements for final accounts and Balance Sheet and contracting accounts in guide for accountant center with\\ngrade excellent.\\nEducation\\nMay 2010\\nTrained as Accountant in Walid Hamdy Hashem office for Account solution from Jan Alexandria University\\nPersonal Information\\nFull Name: Hassan Aly Aboulela Marital Status: Single. Military Status: Exempted\\nLanguages\\nArabic mother tongue. Good in both written and spoken English.\\nSkills\\naccounting, Accountant, Arabic, Balance Sheet, bank reconciliations, com, resolve customer complaints, Customer Service, databases, delivery,\\n\\nE-mail, English, expense reports, Financial, Financial and accounting, financial statements, forms, general ledger, Lecturer, excel, office, Microsoft\\nword, Page, pricing, QuickBooks, telephone, phone, workflow, written\\nAdditional Information\\nPersonal details: Full Name: Hassan Aly Aboulela Marital Status: Single. Military Status: Exempted\\n3|Page\\n\\n\""
            ],
            "application/vnd.google.colaboratory.intrinsic+json": {
              "type": "string"
            }
          },
          "metadata": {},
          "execution_count": 27
        }
      ]
    },
    {
      "cell_type": "code",
      "source": [
        "!pip install together"
      ],
      "metadata": {
        "id": "dVGK1--d2ktz",
        "colab": {
          "base_uri": "https://localhost:8080/"
        },
        "outputId": "a879f9ab-d021-4c81-f9b8-8558f19e7f36"
      },
      "execution_count": null,
      "outputs": [
        {
          "output_type": "stream",
          "name": "stdout",
          "text": [
            "Collecting together\n",
            "  Downloading together-0.2.6-py3-none-any.whl.metadata (25 kB)\n",
            "Requirement already satisfied: requests<3.0.0,>=2.31.0 in /usr/local/lib/python3.10/dist-packages (from together) (2.31.0)\n",
            "Collecting sseclient-py<2.0.0,>=1.7.2 (from together)\n",
            "  Downloading sseclient_py-1.8.0-py2.py3-none-any.whl.metadata (2.0 kB)\n",
            "Requirement already satisfied: tabulate<0.10.0,>=0.9.0 in /usr/local/lib/python3.10/dist-packages (from together) (0.9.0)\n",
            "Requirement already satisfied: tqdm<5.0.0,>=4.66.1 in /usr/local/lib/python3.10/dist-packages (from together) (4.66.1)\n",
            "Requirement already satisfied: typer<0.10.0,>=0.9.0 in /usr/local/lib/python3.10/dist-packages (from together) (0.9.0)\n",
            "Requirement already satisfied: charset-normalizer<4,>=2 in /usr/local/lib/python3.10/dist-packages (from requests<3.0.0,>=2.31.0->together) (3.3.1)\n",
            "Requirement already satisfied: idna<4,>=2.5 in /usr/local/lib/python3.10/dist-packages (from requests<3.0.0,>=2.31.0->together) (3.4)\n",
            "Requirement already satisfied: urllib3<3,>=1.21.1 in /usr/local/lib/python3.10/dist-packages (from requests<3.0.0,>=2.31.0->together) (2.0.7)\n",
            "Requirement already satisfied: certifi>=2017.4.17 in /usr/local/lib/python3.10/dist-packages (from requests<3.0.0,>=2.31.0->together) (2023.7.22)\n",
            "Requirement already satisfied: click<9.0.0,>=7.1.1 in /usr/local/lib/python3.10/dist-packages (from typer<0.10.0,>=0.9.0->together) (8.1.7)\n",
            "Requirement already satisfied: typing-extensions>=3.7.4.3 in /usr/local/lib/python3.10/dist-packages (from typer<0.10.0,>=0.9.0->together) (4.5.0)\n",
            "Downloading together-0.2.6-py3-none-any.whl (39 kB)\n",
            "Downloading sseclient_py-1.8.0-py2.py3-none-any.whl (8.8 kB)\n",
            "Installing collected packages: sseclient-py, together\n",
            "Successfully installed sseclient-py-1.8.0 together-0.2.6\n",
            "\u001b[33mWARNING: Running pip as the 'root' user can result in broken permissions and conflicting behaviour with the system package manager. It is recommended to use a virtual environment instead: https://pip.pypa.io/warnings/venv\u001b[0m\u001b[33m\n",
            "\u001b[0m"
          ]
        }
      ]
    },
    {
      "cell_type": "code",
      "source": [
        "import together\n",
        "together.api_key = \"<INSERT_API_KEY_HERE>\"\n",
        "\n",
        "search_prompt = f\"\"\"\n",
        "You are acting as an agent that will search this document for the answer to a question. Given the passage and question, you must give the answer and citation\n",
        "\n",
        "Passage: \"{best_passage}\"\n",
        "Question: {query}\n",
        "Response:\n",
        "\"\"\"\n",
        "\n",
        "output = together.Complete.create(\n",
        "    prompt = search_prompt,\n",
        "    model = 'togethercomputer/llama-2-70b',\n",
        "    max_tokens = 256,\n",
        "    temperature = 1,\n",
        "    top_k = 50,\n",
        "    top_p = 0.7,\n",
        "    repetition_penalty = 0,\n",
        ")\n"
      ],
      "metadata": {
        "id": "QxTmWa-AcWdj"
      },
      "execution_count": null,
      "outputs": []
    },
    {
      "cell_type": "code",
      "source": [
        "print(search_prompt)\n"
      ],
      "metadata": {
        "colab": {
          "base_uri": "https://localhost:8080/"
        },
        "id": "0MEOccszcrMG",
        "outputId": "b46d14f3-28d0-4898-c947-82af80e5c9c2"
      },
      "execution_count": null,
      "outputs": [
        {
          "output_type": "stream",
          "name": "stdout",
          "text": [
            "\n",
            "You are acting as an agent that will search this document for the answer to a question. Given the passage and question, you must give the answer and citation\n",
            "\n",
            "Passage: \"GENERAL ACCOUNTANT\n",
            "Professional Summary\n",
            "I have around 6 years experiences in the field of Accounting & banking works, with Egyptians and foreign companies, I'm really honored to\n",
            "introduce myself as a hardworking, good Communication skills, with the highest level of integrity, honesty, loyalty, strong beliefs, goal orientated,\n",
            "sober habits and the desire to produce the best of the work.\n",
            "Areas of Expertise\n",
            "Abdul Aziz Abdul Ghafar Ahmed) Final accounts and Balance Sheet Ability to deal with the accounting program (QuickBooks). Ability to make\n",
            "the financial statements, accounting cycle by excel. Skill with Microsoft word. Skillfulness with computer.\n",
            "Work Experience\n",
            "06/2014 to 10/2016\n",
            "Company Name\n",
            "Completion of opening customer account using National bank of Egypt system.\n",
            "Checking requests for opening an account and make sure it's compatible with the Egyptian standards for opening an account.\n",
            "Serving 50 branches per day and complete nearly 500 accounts per day.\n",
            "Customer Service at Green Towers Egypt, Alexandria.\n",
            "03/2013 to 05/2014\n",
            "Dealing directly with customers either by telephone, electronically or face to face.\n",
            "Respond promptly to customer inquiries.\n",
            "Handle and resolve customer complaints.\n",
            "Provide pricing and delivery information.\n",
            "Set up new customer accounts.\n",
            "1|Page.\n",
            "E-mail:Hassan_aly1014@yahoo.com Mobile phone :( +2) 01207673477 Process orders, forms, applications and requests.\n",
            "Organize workflow to meet customer timeframes.\n",
            "Manage customers' accounts.\n",
            "Keep records of customer interactions and transactions.\n",
            "Record details of inquiries, comments and complaints.\n",
            "Record details of actions taken.\n",
            "Maintain customer databases.\n",
            "10/2011 to 02/2013\n",
            "General Accountant Company Name ï¼​ City\n",
            "Job Description:.\n",
            "Preparation of Financial and accounting reports and their presentation to the Financial Manager.\n",
            "Prepare reports weekly and monthly for revenues and expense.\n",
            "Prepare journal entries.\n",
            "Complete general ledger operations.\n",
            "Account/bank reconciliations.\n",
            "Review and process expense reports.\n",
            "Assist with preparation and coordination of the audit process.\n",
            "08/2010 to 09/2011\n",
            "General Accountant Company Name\n",
            "Job Description:.\n",
            "Preparation of Financial and accounting reports and their presentation to the Financial Manager.\n",
            "Prepare reports weekly and monthly for revenues and expense.\n",
            "Prepare journal entries.\n",
            "Complete general ledger operations.\n",
            "Account/bank reconciliations.\n",
            "Courses: Has fulfilled all requirements for final accounts and Balance Sheet and contracting accounts in guide for accountant center with\n",
            "grade excellent.\n",
            "Education\n",
            "May 2010\n",
            "Trained as Accountant in Walid Hamdy Hashem office for Account solution from Jan Alexandria University\n",
            "Personal Information\n",
            "Full Name: Hassan Aly Aboulela Marital Status: Single. Military Status: Exempted\n",
            "Languages\n",
            "Arabic mother tongue. Good in both written and spoken English.\n",
            "Skills\n",
            "accounting, Accountant, Arabic, Balance Sheet, bank reconciliations, com, resolve customer complaints, Customer Service, databases, delivery,\n",
            "\n",
            "E-mail, English, expense reports, Financial, Financial and accounting, financial statements, forms, general ledger, Lecturer, excel, office, Microsoft\n",
            "word, Page, pricing, QuickBooks, telephone, phone, workflow, written\n",
            "Additional Information\n",
            "Personal details: Full Name: Hassan Aly Aboulela Marital Status: Single. Military Status: Exempted\n",
            "3|Page\n",
            "\n",
            "\"\n",
            "Question: which accountants have experience working with foreign companies\n",
            "Response:\n",
            "\n"
          ]
        }
      ]
    },
    {
      "cell_type": "code",
      "source": [
        "response = output['output']['choices'][0]['text']\n",
        "print(response)"
      ],
      "metadata": {
        "colab": {
          "base_uri": "https://localhost:8080/"
        },
        "id": "CF7-QjCGdEe1",
        "outputId": "96f4acc2-968b-47aa-b51e-bfd3f09d4877"
      },
      "execution_count": null,
      "outputs": [
        {
          "output_type": "stream",
          "name": "stdout",
          "text": [
            "\n",
            "```\n",
            "GENERAL ACCOUNTANT\n",
            "Professional Summary\n",
            "I have around 6 years experiences in the field of Accounting & banking works, with Egyptians and foreign companies, I'm really honored to\n",
            "introduce myself as a hardworking, good Communication skills, with the highest level of integrity, honesty, loyalty, strong beliefs, goal orientated,\n",
            "sober habits and the desire to produce the best of the work.\n",
            "Areas of Expertise\n",
            "Abdul Aziz Abdul Ghafar Ahmed) Final accounts and Balance Sheet Ability to deal with the accounting program (QuickBooks). Ability to make\n",
            "the financial statements, accounting cycle by excel. Skill with Microsoft word. Skillfulness with computer.\n",
            "Work Experience\n",
            "06/2014 to 10/2016\n",
            "Company Name\n",
            "Completion of opening customer account using National bank of Egypt system.\n",
            "Checking requests for opening an account and make sure it's compatible with the Egyptian standards for opening an account.\n",
            "Serving 50 branches per day and complete nearly 500 accounts per day.\n",
            "Customer Service\n"
          ]
        }
      ]
    },
    {
      "cell_type": "code",
      "source": [],
      "metadata": {
        "id": "DJ14-TScdGkl"
      },
      "execution_count": null,
      "outputs": []
    }
  ],
  "metadata": {
    "accelerator": "GPU",
    "colab": {
      "gpuType": "T4",
      "provenance": []
    },
    "kernelspec": {
      "display_name": "Python 3",
      "name": "python3"
    },
    "language_info": {
      "codemirror_mode": {
        "name": "ipython",
        "version": 3
      },
      "file_extension": ".py",
      "mimetype": "text/x-python",
      "name": "python",
      "nbconvert_exporter": "python",
      "pygments_lexer": "ipython3",
      "version": "3.9.1"
    }
  },
  "nbformat": 4,
  "nbformat_minor": 0
}